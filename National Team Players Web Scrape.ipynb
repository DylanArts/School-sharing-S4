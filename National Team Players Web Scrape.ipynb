{
 "cells": [
  {
   "cell_type": "code",
   "execution_count": 1,
   "metadata": {},
   "outputs": [],
   "source": [
    "import time\n",
    "import pandas as pd\n",
    "import matplotlib.pyplot as plt"
   ]
  },
  {
   "cell_type": "code",
   "execution_count": 2,
   "metadata": {},
   "outputs": [],
   "source": [
    "from selenium import webdriver\n",
    "\n",
    "chrome_path = \"C:/Program Files/ChromeDriver/chromedriver.exe\" #Select local chromedriver\n",
    "driver = webdriver.Chrome(chrome_path)                                          #Create webdriver based on chromedriver"
   ]
  },
  {
   "cell_type": "code",
   "execution_count": 10,
   "metadata": {},
   "outputs": [],
   "source": [
    "baselink = \"https://www.soccerstats.com/leagueview_team.asp?league=euro&team1id=\" #Create prefix of link\n",
    "\n",
    "data = {        #Create dictionary for data\n",
    "        \"Country\": [],\n",
    "        \"Name\": [],\n",
    "        \"Position\": [],\n",
    "        \"Team\": []\n",
    "    }\n",
    "\n",
    "for i in range(1,25):\n",
    "    driver.get(baselink + str(i)) #Get url based on prefix link and team id\n",
    "    time.sleep(1)\n",
    "    \n",
    "    for el in driver.find_elements_by_class_name(\"odd\"):\n",
    "        data[\"Country\"].append(driver.find_element_by_class_name(\"six\").find_element_by_css_selector(\"h3\").text.split(\"games\", 1)[0]) #Get country value\n",
    "        tds = el.find_elements_by_css_selector(\"td\") #Get all row values\n",
    "        data[\"Name\"].append(tds[2].text)             #Get name value\n",
    "        data[\"Position\"].append(tds[3].find_element_by_css_selector(\"b\").text) #Get position value\n",
    "        data[\"Team\"].append(tds[4].find_element_by_css_selector(\"a\").text)  #Get team value"
   ]
  },
  {
   "cell_type": "code",
   "execution_count": 11,
   "metadata": {},
   "outputs": [],
   "source": [
    "national_team_players = pd.DataFrame.from_dict(data)"
   ]
  },
  {
   "cell_type": "code",
   "execution_count": 12,
   "metadata": {},
   "outputs": [
    {
     "data": {
      "text/html": [
       "<div>\n",
       "<style scoped>\n",
       "    .dataframe tbody tr th:only-of-type {\n",
       "        vertical-align: middle;\n",
       "    }\n",
       "\n",
       "    .dataframe tbody tr th {\n",
       "        vertical-align: top;\n",
       "    }\n",
       "\n",
       "    .dataframe thead th {\n",
       "        text-align: right;\n",
       "    }\n",
       "</style>\n",
       "<table border=\"1\" class=\"dataframe\">\n",
       "  <thead>\n",
       "    <tr style=\"text-align: right;\">\n",
       "      <th></th>\n",
       "      <th>Country</th>\n",
       "      <th>Name</th>\n",
       "      <th>Position</th>\n",
       "      <th>Team</th>\n",
       "    </tr>\n",
       "  </thead>\n",
       "  <tbody>\n",
       "    <tr>\n",
       "      <th>0</th>\n",
       "      <td>Turkey</td>\n",
       "      <td>A. Bayindir</td>\n",
       "      <td>G</td>\n",
       "      <td>Fenerbahce</td>\n",
       "    </tr>\n",
       "    <tr>\n",
       "      <th>1</th>\n",
       "      <td>Turkey</td>\n",
       "      <td>M. Günok</td>\n",
       "      <td>G</td>\n",
       "      <td>Basaksehir</td>\n",
       "    </tr>\n",
       "    <tr>\n",
       "      <th>2</th>\n",
       "      <td>Turkey</td>\n",
       "      <td>Ugurcan Çakir</td>\n",
       "      <td>G</td>\n",
       "      <td>Trabzonspor</td>\n",
       "    </tr>\n",
       "    <tr>\n",
       "      <th>3</th>\n",
       "      <td>Turkey</td>\n",
       "      <td>Çaglar Söyüncü</td>\n",
       "      <td>D</td>\n",
       "      <td>Leicester City</td>\n",
       "    </tr>\n",
       "    <tr>\n",
       "      <th>4</th>\n",
       "      <td>Turkey</td>\n",
       "      <td>Caner Erkin</td>\n",
       "      <td>D</td>\n",
       "      <td>Fenerbahce</td>\n",
       "    </tr>\n",
       "    <tr>\n",
       "      <th>...</th>\n",
       "      <td>...</td>\n",
       "      <td>...</td>\n",
       "      <td>...</td>\n",
       "      <td>...</td>\n",
       "    </tr>\n",
       "    <tr>\n",
       "      <th>617</th>\n",
       "      <td>Germany</td>\n",
       "      <td>Kai Havertz</td>\n",
       "      <td>F</td>\n",
       "      <td>Chelsea</td>\n",
       "    </tr>\n",
       "    <tr>\n",
       "      <th>618</th>\n",
       "      <td>Germany</td>\n",
       "      <td>Leroy Sané</td>\n",
       "      <td>F</td>\n",
       "      <td>Bayern Munich</td>\n",
       "    </tr>\n",
       "    <tr>\n",
       "      <th>619</th>\n",
       "      <td>Germany</td>\n",
       "      <td>Serge Gnabry</td>\n",
       "      <td>F</td>\n",
       "      <td>Bayern Munich</td>\n",
       "    </tr>\n",
       "    <tr>\n",
       "      <th>620</th>\n",
       "      <td>Germany</td>\n",
       "      <td>Thomas Müller</td>\n",
       "      <td>F</td>\n",
       "      <td>Bayern Munich</td>\n",
       "    </tr>\n",
       "    <tr>\n",
       "      <th>621</th>\n",
       "      <td>Germany</td>\n",
       "      <td>Timo Werner</td>\n",
       "      <td>F</td>\n",
       "      <td>Chelsea</td>\n",
       "    </tr>\n",
       "  </tbody>\n",
       "</table>\n",
       "<p>622 rows × 4 columns</p>\n",
       "</div>"
      ],
      "text/plain": [
       "      Country            Name Position            Team\n",
       "0     Turkey      A. Bayindir        G      Fenerbahce\n",
       "1     Turkey         M. Günok        G      Basaksehir\n",
       "2     Turkey    Ugurcan Çakir        G     Trabzonspor\n",
       "3     Turkey   Çaglar Söyüncü        D  Leicester City\n",
       "4     Turkey      Caner Erkin        D      Fenerbahce\n",
       "..        ...             ...      ...             ...\n",
       "617  Germany      Kai Havertz        F         Chelsea\n",
       "618  Germany       Leroy Sané        F   Bayern Munich\n",
       "619  Germany     Serge Gnabry        F   Bayern Munich\n",
       "620  Germany    Thomas Müller        F   Bayern Munich\n",
       "621  Germany      Timo Werner        F         Chelsea\n",
       "\n",
       "[622 rows x 4 columns]"
      ]
     },
     "execution_count": 12,
     "metadata": {},
     "output_type": "execute_result"
    }
   ],
   "source": [
    "national_team_players"
   ]
  },
  {
   "cell_type": "code",
   "execution_count": 14,
   "metadata": {},
   "outputs": [],
   "source": [
    "new = national_team_players[\"Name\"].str.split(\" \", n = 1, expand = True)  #Split name on space to get first-/lastname\n",
    "national_team_players[\"FirstName\"] = new[0]\n",
    "national_team_players[\"LastName\"] = new[1]"
   ]
  },
  {
   "cell_type": "code",
   "execution_count": 15,
   "metadata": {},
   "outputs": [],
   "source": [
    "national_team_players.drop('Name', axis='columns', inplace=True)  #Drop former name column"
   ]
  },
  {
   "cell_type": "code",
   "execution_count": 16,
   "metadata": {},
   "outputs": [],
   "source": [
    "national_team_players.to_csv('national_team_players.csv', index=False)  #Print CSV to file"
   ]
  },
  {
   "cell_type": "code",
   "execution_count": null,
   "metadata": {},
   "outputs": [],
   "source": []
  }
 ],
 "metadata": {
  "kernelspec": {
   "display_name": "Python 3",
   "language": "python",
   "name": "python3"
  },
  "language_info": {
   "codemirror_mode": {
    "name": "ipython",
    "version": 3
   },
   "file_extension": ".py",
   "mimetype": "text/x-python",
   "name": "python",
   "nbconvert_exporter": "python",
   "pygments_lexer": "ipython3",
   "version": "3.8.5"
  }
 },
 "nbformat": 4,
 "nbformat_minor": 4
}
